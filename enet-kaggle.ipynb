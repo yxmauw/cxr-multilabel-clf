{
  "metadata": {
    "kernelspec": {
      "language": "python",
      "display_name": "Python 3",
      "name": "python3"
    },
    "language_info": {
      "name": "python",
      "version": "3.7.12",
      "mimetype": "text/x-python",
      "codemirror_mode": {
        "name": "ipython",
        "version": 3
      },
      "pygments_lexer": "ipython3",
      "nbconvert_exporter": "python",
      "file_extension": ".py"
    },
    "colab": {
      "provenance": [],
      "include_colab_link": true
    }
  },
  "nbformat_minor": 0,
  "nbformat": 4,
  "cells": [
    {
      "cell_type": "markdown",
      "metadata": {
        "id": "view-in-github",
        "colab_type": "text"
      },
      "source": [
        "<a href=\"https://colab.research.google.com/github/yxmauw/cxr-multilabel-clf/blob/main/enet-kaggle.ipynb\" target=\"_parent\"><img src=\"https://colab.research.google.com/assets/colab-badge.svg\" alt=\"Open In Colab\"/></a>"
      ]
    },
    {
      "cell_type": "code",
      "source": [
        "# You can write up to 20GB to the current directory (/kaggle/working/) that gets preserved as output when you create a version using \"Save & Run All\" \n",
        "# You can also write temporary files to /kaggle/temp/, but they won't be saved outside of the current session\n",
        "\n",
        "import numpy as np \n",
        "import pandas as pd "
      ],
      "metadata": {
        "_uuid": "8f2839f25d086af736a60e9eeb907d3b93b6e0e5",
        "_cell_guid": "b1076dfc-b9ad-4769-8c92-a6c4dae69d19",
        "execution": {
          "iopub.status.busy": "2022-10-28T02:46:40.023210Z",
          "iopub.execute_input": "2022-10-28T02:46:40.024111Z",
          "iopub.status.idle": "2022-10-28T02:46:40.047013Z",
          "shell.execute_reply.started": "2022-10-28T02:46:40.024018Z",
          "shell.execute_reply": "2022-10-28T02:46:40.046119Z"
        },
        "trusted": true,
        "id": "V06UUnQa1Cjt"
      },
      "execution_count": null,
      "outputs": []
    },
    {
      "cell_type": "code",
      "source": [
        "train_df = pd.read_csv('../input/ranzcr-clip-catheter-line-classification/train.csv')\n",
        "display(len(train_df))\n",
        "display(train_df.head(3))\n",
        "train_annot_df = pd.read_csv('../input/ranzcr-clip-catheter-line-classification/train_annotations.csv')\n",
        "display(len(train_annot_df))\n",
        "display(train_annot_df.head(3))"
      ],
      "metadata": {
        "execution": {
          "iopub.status.busy": "2022-10-28T02:46:44.475857Z",
          "iopub.execute_input": "2022-10-28T02:46:44.476564Z",
          "iopub.status.idle": "2022-10-28T02:46:44.724851Z",
          "shell.execute_reply.started": "2022-10-28T02:46:44.476517Z",
          "shell.execute_reply": "2022-10-28T02:46:44.723861Z"
        },
        "trusted": true,
        "id": "McQ0e-rw1Cjv",
        "outputId": "c0aa2a6f-d842-4a3d-fb22-3b6ae1470b5f"
      },
      "execution_count": null,
      "outputs": [
        {
          "output_type": "display_data",
          "data": {
            "text/plain": "30083"
          },
          "metadata": {}
        },
        {
          "output_type": "display_data",
          "data": {
            "text/plain": "                                    StudyInstanceUID  ETT - Abnormal  \\\n0  1.2.826.0.1.3680043.8.498.26697628953273228189...               0   \n1  1.2.826.0.1.3680043.8.498.46302891597398758759...               0   \n2  1.2.826.0.1.3680043.8.498.23819260719748494858...               0   \n\n   ETT - Borderline  ETT - Normal  NGT - Abnormal  NGT - Borderline  \\\n0                 0             0               0                 0   \n1                 0             1               0                 0   \n2                 0             0               0                 0   \n\n   NGT - Incompletely Imaged  NGT - Normal  CVC - Abnormal  CVC - Borderline  \\\n0                          0             1               0                 0   \n1                          1             0               0                 0   \n2                          0             0               0                 1   \n\n   CVC - Normal  Swan Ganz Catheter Present  PatientID  \n0             0                           0  ec89415d1  \n1             1                           0  bf4c6da3c  \n2             0                           0  3fc1c97e5  ",
            "text/html": "<div>\n<style scoped>\n    .dataframe tbody tr th:only-of-type {\n        vertical-align: middle;\n    }\n\n    .dataframe tbody tr th {\n        vertical-align: top;\n    }\n\n    .dataframe thead th {\n        text-align: right;\n    }\n</style>\n<table border=\"1\" class=\"dataframe\">\n  <thead>\n    <tr style=\"text-align: right;\">\n      <th></th>\n      <th>StudyInstanceUID</th>\n      <th>ETT - Abnormal</th>\n      <th>ETT - Borderline</th>\n      <th>ETT - Normal</th>\n      <th>NGT - Abnormal</th>\n      <th>NGT - Borderline</th>\n      <th>NGT - Incompletely Imaged</th>\n      <th>NGT - Normal</th>\n      <th>CVC - Abnormal</th>\n      <th>CVC - Borderline</th>\n      <th>CVC - Normal</th>\n      <th>Swan Ganz Catheter Present</th>\n      <th>PatientID</th>\n    </tr>\n  </thead>\n  <tbody>\n    <tr>\n      <th>0</th>\n      <td>1.2.826.0.1.3680043.8.498.26697628953273228189...</td>\n      <td>0</td>\n      <td>0</td>\n      <td>0</td>\n      <td>0</td>\n      <td>0</td>\n      <td>0</td>\n      <td>1</td>\n      <td>0</td>\n      <td>0</td>\n      <td>0</td>\n      <td>0</td>\n      <td>ec89415d1</td>\n    </tr>\n    <tr>\n      <th>1</th>\n      <td>1.2.826.0.1.3680043.8.498.46302891597398758759...</td>\n      <td>0</td>\n      <td>0</td>\n      <td>1</td>\n      <td>0</td>\n      <td>0</td>\n      <td>1</td>\n      <td>0</td>\n      <td>0</td>\n      <td>0</td>\n      <td>1</td>\n      <td>0</td>\n      <td>bf4c6da3c</td>\n    </tr>\n    <tr>\n      <th>2</th>\n      <td>1.2.826.0.1.3680043.8.498.23819260719748494858...</td>\n      <td>0</td>\n      <td>0</td>\n      <td>0</td>\n      <td>0</td>\n      <td>0</td>\n      <td>0</td>\n      <td>0</td>\n      <td>0</td>\n      <td>1</td>\n      <td>0</td>\n      <td>0</td>\n      <td>3fc1c97e5</td>\n    </tr>\n  </tbody>\n</table>\n</div>"
          },
          "metadata": {}
        },
        {
          "output_type": "display_data",
          "data": {
            "text/plain": "17999"
          },
          "metadata": {}
        },
        {
          "output_type": "display_data",
          "data": {
            "text/plain": "                                    StudyInstanceUID             label  \\\n0  1.2.826.0.1.3680043.8.498.12616281126973421762...      CVC - Normal   \n1  1.2.826.0.1.3680043.8.498.12616281126973421762...      CVC - Normal   \n2  1.2.826.0.1.3680043.8.498.72921907356394389969...  CVC - Borderline   \n\n                                                data  \n0  [[1487, 1279], [1477, 1168], [1472, 1052], [14...  \n1  [[1328, 7], [1347, 101], [1383, 193], [1400, 2...  \n2  [[801, 1207], [812, 1112], [823, 1023], [842, ...  ",
            "text/html": "<div>\n<style scoped>\n    .dataframe tbody tr th:only-of-type {\n        vertical-align: middle;\n    }\n\n    .dataframe tbody tr th {\n        vertical-align: top;\n    }\n\n    .dataframe thead th {\n        text-align: right;\n    }\n</style>\n<table border=\"1\" class=\"dataframe\">\n  <thead>\n    <tr style=\"text-align: right;\">\n      <th></th>\n      <th>StudyInstanceUID</th>\n      <th>label</th>\n      <th>data</th>\n    </tr>\n  </thead>\n  <tbody>\n    <tr>\n      <th>0</th>\n      <td>1.2.826.0.1.3680043.8.498.12616281126973421762...</td>\n      <td>CVC - Normal</td>\n      <td>[[1487, 1279], [1477, 1168], [1472, 1052], [14...</td>\n    </tr>\n    <tr>\n      <th>1</th>\n      <td>1.2.826.0.1.3680043.8.498.12616281126973421762...</td>\n      <td>CVC - Normal</td>\n      <td>[[1328, 7], [1347, 101], [1383, 193], [1400, 2...</td>\n    </tr>\n    <tr>\n      <th>2</th>\n      <td>1.2.826.0.1.3680043.8.498.72921907356394389969...</td>\n      <td>CVC - Borderline</td>\n      <td>[[801, 1207], [812, 1112], [823, 1023], [842, ...</td>\n    </tr>\n  </tbody>\n</table>\n</div>"
          },
          "metadata": {}
        }
      ]
    },
    {
      "cell_type": "code",
      "source": [
        "# value counts\n",
        "train_df.drop(columns=['StudyInstanceUID','PatientID']).agg(['sum'])\n",
        "# unbalanced dataset"
      ],
      "metadata": {
        "execution": {
          "iopub.status.busy": "2022-10-28T02:46:59.167135Z",
          "iopub.execute_input": "2022-10-28T02:46:59.167596Z",
          "iopub.status.idle": "2022-10-28T02:46:59.208167Z",
          "shell.execute_reply.started": "2022-10-28T02:46:59.167559Z",
          "shell.execute_reply": "2022-10-28T02:46:59.207260Z"
        },
        "trusted": true,
        "id": "NdNcRIOP1Cjx",
        "outputId": "e602d509-882f-4f7b-a237-eb0f5a2af756"
      },
      "execution_count": null,
      "outputs": [
        {
          "execution_count": 3,
          "output_type": "execute_result",
          "data": {
            "text/plain": "     ETT - Abnormal  ETT - Borderline  ETT - Normal  NGT - Abnormal  \\\nsum              79              1138          7240             279   \n\n     NGT - Borderline  NGT - Incompletely Imaged  NGT - Normal  \\\nsum               529                       2748          4797   \n\n     CVC - Abnormal  CVC - Borderline  CVC - Normal  \\\nsum            3195              8460         21324   \n\n     Swan Ganz Catheter Present  \nsum                         830  ",
            "text/html": "<div>\n<style scoped>\n    .dataframe tbody tr th:only-of-type {\n        vertical-align: middle;\n    }\n\n    .dataframe tbody tr th {\n        vertical-align: top;\n    }\n\n    .dataframe thead th {\n        text-align: right;\n    }\n</style>\n<table border=\"1\" class=\"dataframe\">\n  <thead>\n    <tr style=\"text-align: right;\">\n      <th></th>\n      <th>ETT - Abnormal</th>\n      <th>ETT - Borderline</th>\n      <th>ETT - Normal</th>\n      <th>NGT - Abnormal</th>\n      <th>NGT - Borderline</th>\n      <th>NGT - Incompletely Imaged</th>\n      <th>NGT - Normal</th>\n      <th>CVC - Abnormal</th>\n      <th>CVC - Borderline</th>\n      <th>CVC - Normal</th>\n      <th>Swan Ganz Catheter Present</th>\n    </tr>\n  </thead>\n  <tbody>\n    <tr>\n      <th>sum</th>\n      <td>79</td>\n      <td>1138</td>\n      <td>7240</td>\n      <td>279</td>\n      <td>529</td>\n      <td>2748</td>\n      <td>4797</td>\n      <td>3195</td>\n      <td>8460</td>\n      <td>21324</td>\n      <td>830</td>\n    </tr>\n  </tbody>\n</table>\n</div>"
          },
          "metadata": {}
        }
      ]
    },
    {
      "cell_type": "code",
      "source": [
        "import matplotlib.pyplot as plt\n",
        "import seaborn as sns"
      ],
      "metadata": {
        "execution": {
          "iopub.status.busy": "2022-10-28T02:47:01.769145Z",
          "iopub.execute_input": "2022-10-28T02:47:01.769618Z",
          "iopub.status.idle": "2022-10-28T02:47:02.507132Z",
          "shell.execute_reply.started": "2022-10-28T02:47:01.769578Z",
          "shell.execute_reply": "2022-10-28T02:47:02.506044Z"
        },
        "trusted": true,
        "id": "cONSDexl1Cjy"
      },
      "execution_count": null,
      "outputs": []
    },
    {
      "cell_type": "code",
      "source": [
        "# value counts\n",
        "train_df.drop(columns=['StudyInstanceUID','PatientID']).agg(['sum']).T.sort_values(by='sum').plot(kind='barh')\n",
        "plt.legend(loc='lower right');"
      ],
      "metadata": {
        "execution": {
          "iopub.status.busy": "2022-10-28T02:47:04.180989Z",
          "iopub.execute_input": "2022-10-28T02:47:04.181680Z",
          "iopub.status.idle": "2022-10-28T02:47:04.493106Z",
          "shell.execute_reply.started": "2022-10-28T02:47:04.181644Z",
          "shell.execute_reply": "2022-10-28T02:47:04.491889Z"
        },
        "trusted": true,
        "id": "rd4yEDyL1Cjz",
        "outputId": "738805db-8fab-48fe-81de-ece60953337c"
      },
      "execution_count": null,
      "outputs": [
        {
          "output_type": "display_data",
          "data": {
            "text/plain": "<Figure size 432x288 with 1 Axes>",
            "image/png": "[encoded data removed]"
          },
          "metadata": {
            "needs_background": "light"
          }
        }
      ]
    },
    {
      "cell_type": "code",
      "source": [
        "len(train_df.drop(columns=['StudyInstanceUID','PatientID']).agg(['sum']).T)\n",
        "# num of classes"
      ],
      "metadata": {
        "execution": {
          "iopub.status.busy": "2022-10-28T02:47:07.675004Z",
          "iopub.execute_input": "2022-10-28T02:47:07.675678Z",
          "iopub.status.idle": "2022-10-28T02:47:07.695859Z",
          "shell.execute_reply.started": "2022-10-28T02:47:07.675642Z",
          "shell.execute_reply": "2022-10-28T02:47:07.694954Z"
        },
        "trusted": true,
        "id": "gdTMPjw_1Cjz",
        "outputId": "85e76a14-a8c8-4846-8db8-6cc7ba628017"
      },
      "execution_count": null,
      "outputs": [
        {
          "execution_count": 6,
          "output_type": "execute_result",
          "data": {
            "text/plain": "11"
          },
          "metadata": {}
        }
      ]
    },
    {
      "cell_type": "code",
      "source": [
        "import torch\n",
        "import cv2\n",
        "import numpy as np\n",
        "from torchvision import transforms\n",
        "from torch.utils.data import Dataset"
      ],
      "metadata": {
        "execution": {
          "iopub.status.busy": "2022-10-28T02:47:09.612626Z",
          "iopub.execute_input": "2022-10-28T02:47:09.613355Z",
          "iopub.status.idle": "2022-10-28T02:47:11.485435Z",
          "shell.execute_reply.started": "2022-10-28T02:47:09.613293Z",
          "shell.execute_reply": "2022-10-28T02:47:11.484503Z"
        },
        "trusted": true,
        "id": "0AMhReRR1Cj0"
      },
      "execution_count": null,
      "outputs": []
    },
    {
      "cell_type": "code",
      "source": [
        "class ImageDataset(Dataset):\n",
        "    def __init__(self, csv, train, test):\n",
        "        self.csv = csv\n",
        "        self.train = train\n",
        "        self.test = test\n",
        "        self.all_image_names = self.csv[:]['StudyInstanceUID']\n",
        "        self.all_labels = np.array(self.csv.drop(['StudyInstanceUID', 'PatientID'], axis=1))\n",
        "        self.train_ratio = int(0.85 * len(self.csv))\n",
        "        self.valid_ratio = len(self.csv) - self.train_ratio\n",
        "        # set the training data images and labels\n",
        "        if self.train == True:\n",
        "            print(f\"Number of training images: {self.train_ratio}\")\n",
        "            self.image_names = list(self.all_image_names[:self.train_ratio])\n",
        "            self.labels = list(self.all_labels[:self.train_ratio])\n",
        "            # define the training transforms\n",
        "            self.transform = transforms.Compose([\n",
        "                transforms.ToPILImage(),\n",
        "                transforms.Resize((400, 400)),\n",
        "                transforms.RandomHorizontalFlip(p=0.5),\n",
        "                transforms.RandomRotation(degrees=45),\n",
        "                transforms.ToTensor(),\n",
        "            ])\n",
        "        # set the validation data images and labels\n",
        "        elif self.train == False and self.test == False:\n",
        "            print(f\"Number of validation images: {self.valid_ratio}\")\n",
        "            self.image_names = list(self.all_image_names[-self.valid_ratio:-10])\n",
        "            self.labels = list(self.all_labels[-self.valid_ratio:])\n",
        "            # define the validation transforms\n",
        "            self.transform = transforms.Compose([\n",
        "                transforms.ToPILImage(),\n",
        "                transforms.Resize((400, 400)),\n",
        "                transforms.ToTensor(),\n",
        "            ])\n",
        "        # set the test data images and labels, only last 10 images\n",
        "        # this, we will use in a separate inference script\n",
        "        elif self.test == True and self.train == False:\n",
        "            self.image_names = list(self.all_image_names[-10:])\n",
        "            self.labels = list(self.all_labels[-10:])\n",
        "             # define the test transforms\n",
        "            self.transform = transforms.Compose([\n",
        "                transforms.ToPILImage(),\n",
        "                transforms.ToTensor(),\n",
        "            ])\n",
        "    def __len__(self):\n",
        "        return len(self.image_names)\n",
        "    \n",
        "    def __getitem__(self, index):\n",
        "        image = cv2.imread(f\"../input/ranzcr-clip-catheter-line-classification/train/{self.image_names[index]}.jpg\")\n",
        "        # convert the image from BGR to RGB color format\n",
        "        image = cv2.cvtColor(image, cv2.COLOR_BGR2RGB)\n",
        "        # apply image transforms\n",
        "        image = self.transform(image)\n",
        "        targets = self.labels[index]\n",
        "        \n",
        "        return {\n",
        "            'image': torch.tensor(image, dtype=torch.float32),\n",
        "            'label': torch.tensor(targets, dtype=torch.float32)\n",
        "        }"
      ],
      "metadata": {
        "execution": {
          "iopub.status.busy": "2022-10-28T02:47:13.898477Z",
          "iopub.execute_input": "2022-10-28T02:47:13.899027Z",
          "iopub.status.idle": "2022-10-28T02:47:13.912689Z",
          "shell.execute_reply.started": "2022-10-28T02:47:13.898986Z",
          "shell.execute_reply": "2022-10-28T02:47:13.911765Z"
        },
        "trusted": true,
        "id": "s2qBJ08t1Cj0"
      },
      "execution_count": null,
      "outputs": []
    },
    {
      "cell_type": "code",
      "source": [
        "import torchvision\n",
        "torchvision.__version__"
      ],
      "metadata": {
        "execution": {
          "iopub.status.busy": "2022-10-28T03:05:44.948332Z",
          "iopub.execute_input": "2022-10-28T03:05:44.948713Z",
          "iopub.status.idle": "2022-10-28T03:05:44.955478Z",
          "shell.execute_reply.started": "2022-10-28T03:05:44.948681Z",
          "shell.execute_reply": "2022-10-28T03:05:44.954402Z"
        },
        "trusted": true,
        "id": "HgyolOKX1Cj1",
        "outputId": "eabf26d8-d035-47c8-961d-39d5627588c3"
      },
      "execution_count": null,
      "outputs": [
        {
          "execution_count": 29,
          "output_type": "execute_result",
          "data": {
            "text/plain": "'0.12.0'"
          },
          "metadata": {}
        }
      ]
    },
    {
      "cell_type": "code",
      "source": [
        "print(dir(torchvision.models))"
      ],
      "metadata": {
        "execution": {
          "iopub.status.busy": "2022-10-28T03:42:01.322455Z",
          "iopub.execute_input": "2022-10-28T03:42:01.322825Z",
          "iopub.status.idle": "2022-10-28T03:42:01.328721Z",
          "shell.execute_reply.started": "2022-10-28T03:42:01.322792Z",
          "shell.execute_reply": "2022-10-28T03:42:01.327749Z"
        },
        "trusted": true,
        "id": "L_eYnLj-1Cj2",
        "outputId": "92372aff-1f26-4aea-e9f2-8ecef131f56f"
      },
      "execution_count": null,
      "outputs": [
        {
          "name": "stdout",
          "text": "['AlexNet', 'ConvNeXt', 'DenseNet', 'EfficientNet', 'GoogLeNet', 'GoogLeNetOutputs', 'Inception3', 'InceptionOutputs', 'MNASNet', 'MobileNetV2', 'MobileNetV3', 'RegNet', 'ResNet', 'ShuffleNetV2', 'SqueezeNet', 'VGG', 'VisionTransformer', '_GoogLeNetOutputs', '_InceptionOutputs', '__builtins__', '__cached__', '__doc__', '__file__', '__loader__', '__name__', '__package__', '__path__', '__spec__', '_utils', 'alexnet', 'convnext', 'convnext_base', 'convnext_large', 'convnext_small', 'convnext_tiny', 'densenet', 'densenet121', 'densenet161', 'densenet169', 'densenet201', 'detection', 'efficientnet', 'efficientnet_b0', 'efficientnet_b1', 'efficientnet_b2', 'efficientnet_b3', 'efficientnet_b4', 'efficientnet_b5', 'efficientnet_b6', 'efficientnet_b7', 'feature_extraction', 'googlenet', 'inception', 'inception_v3', 'mnasnet', 'mnasnet0_5', 'mnasnet0_75', 'mnasnet1_0', 'mnasnet1_3', 'mobilenet', 'mobilenet_v2', 'mobilenet_v3_large', 'mobilenet_v3_small', 'mobilenetv2', 'mobilenetv3', 'optical_flow', 'quantization', 'regnet', 'regnet_x_16gf', 'regnet_x_1_6gf', 'regnet_x_32gf', 'regnet_x_3_2gf', 'regnet_x_400mf', 'regnet_x_800mf', 'regnet_x_8gf', 'regnet_y_128gf', 'regnet_y_16gf', 'regnet_y_1_6gf', 'regnet_y_32gf', 'regnet_y_3_2gf', 'regnet_y_400mf', 'regnet_y_800mf', 'regnet_y_8gf', 'resnet', 'resnet101', 'resnet152', 'resnet18', 'resnet34', 'resnet50', 'resnext101_32x8d', 'resnext50_32x4d', 'segmentation', 'shufflenet_v2_x0_5', 'shufflenet_v2_x1_0', 'shufflenet_v2_x1_5', 'shufflenet_v2_x2_0', 'shufflenetv2', 'squeezenet', 'squeezenet1_0', 'squeezenet1_1', 'vgg', 'vgg11', 'vgg11_bn', 'vgg13', 'vgg13_bn', 'vgg16', 'vgg16_bn', 'vgg19', 'vgg19_bn', 'video', 'vision_transformer', 'vit_b_16', 'vit_b_32', 'vit_l_16', 'vit_l_32', 'wide_resnet101_2', 'wide_resnet50_2']\n",
          "output_type": "stream"
        }
      ]
    },
    {
      "cell_type": "code",
      "source": [
        "from torchvision import models \n",
        "import torch.nn as nn\n",
        "def model(pretrained, requires_grad):\n",
        "    model = models.efficientnet_b7(progress=True, pretrained=pretrained)\n",
        "    # to freeze the hidden layers\n",
        "    if requires_grad == False:\n",
        "        for param in model.parameters():\n",
        "            param.requires_grad = False\n",
        "    # to train the hidden layers\n",
        "    elif requires_grad == True:\n",
        "        for param in model.parameters():\n",
        "            param.requires_grad = True\n",
        "    # make the classification layer learnable\n",
        "    # we have 11 classes in total\n",
        "    model.classifier[1] = nn.Linear(in_features=2560, out_features=11)\n",
        "    return model"
      ],
      "metadata": {
        "execution": {
          "iopub.status.busy": "2022-10-28T04:24:13.656142Z",
          "iopub.execute_input": "2022-10-28T04:24:13.656782Z",
          "iopub.status.idle": "2022-10-28T04:24:13.663143Z",
          "shell.execute_reply.started": "2022-10-28T04:24:13.656746Z",
          "shell.execute_reply": "2022-10-28T04:24:13.662004Z"
        },
        "trusted": true,
        "id": "QrLWPTo41Cj2"
      },
      "execution_count": null,
      "outputs": []
    },
    {
      "cell_type": "code",
      "source": [
        "from tqdm import tqdm\n",
        "from torchmetrics import Accuracy, AUROC, F1Score, Precision, Recall\n",
        "# training function\n",
        "def train(model, dataloader, optimizer, criterion, train_data, device):\n",
        "    print('Training')\n",
        "    model.train()\n",
        "    counter = 0\n",
        "    train_running_loss = 0.0\n",
        "    # instantiate metrics\n",
        "    acc = Accuracy()\n",
        "    auc = AUROC()\n",
        "    f1_score = F1Score()\n",
        "    precision = Precision()\n",
        "    recall = Recall()\n",
        "    preds = []\n",
        "    labels = []\n",
        "    for i, data in tqdm(enumerate(dataloader), total=int(len(train_data)/dataloader.batch_size)):\n",
        "        counter += 1\n",
        "        data, target = data['image'].to(device), data['label'].to(device)\n",
        "        labels.append(target.cpu().numpy().argmax(axis=1))\n",
        "        optimizer.zero_grad()\n",
        "        outputs = model(data)\n",
        "        # apply sigmoid activation to get all the outputs between 0 and 1\n",
        "        outputs = torch.sigmoid(outputs)\n",
        "        loss = criterion(outputs, target)\n",
        "        train_running_loss += loss.item()\n",
        "        # backpropagation\n",
        "        loss.backward()\n",
        "        # update optimizer parameters\n",
        "        optimizer.step()\n",
        "        preds.append(outputs.detach().cpu().numpy().argmax(axis=1))\n",
        "        \n",
        "    train_loss = train_running_loss / counter\n",
        "    preds = torch.tensor(np.concatenate(preds))\n",
        "    labels = torch.tensor(np.concatenate(labels))\n",
        "    train_acc = acc(preds, labels).item()\n",
        "    \n",
        "    return train_loss, train_acc"
      ],
      "metadata": {
        "execution": {
          "iopub.status.busy": "2022-10-28T04:24:16.962617Z",
          "iopub.execute_input": "2022-10-28T04:24:16.963764Z",
          "iopub.status.idle": "2022-10-28T04:24:16.976195Z",
          "shell.execute_reply.started": "2022-10-28T04:24:16.963715Z",
          "shell.execute_reply": "2022-10-28T04:24:16.975023Z"
        },
        "trusted": true,
        "id": "HQLCRVLO1Cj-"
      },
      "execution_count": null,
      "outputs": []
    },
    {
      "cell_type": "code",
      "source": [
        "# validation function\n",
        "def validate(model, dataloader, criterion, val_data, device):\n",
        "    print('Validating')\n",
        "    model.eval()\n",
        "    counter = 0\n",
        "    val_running_loss = 0.0\n",
        "    # instantiate metrics\n",
        "    acc = Accuracy()\n",
        "    auc = AUROC()\n",
        "    f1_score = F1Score()\n",
        "    precision = Precision()\n",
        "    recall = Recall()\n",
        "    preds = []\n",
        "    labels = []\n",
        "    with torch.no_grad():\n",
        "        for i, data in tqdm(enumerate(dataloader), total=int(len(val_data)/dataloader.batch_size)):\n",
        "            counter += 1\n",
        "            data, target = data['image'].to(device), data['label'].to(device)\n",
        "            labels.append(target.cpu().numpy().argmax(axis=1))\n",
        "            # make predictions\n",
        "            outputs = model(data)\n",
        "            # apply sigmoid activation to get all the outputs between 0 and 1\n",
        "            outputs = torch.sigmoid(outputs)\n",
        "            loss = criterion(outputs, target)\n",
        "            val_running_loss += loss.item()\n",
        "            preds.append(outputs.detach().cpu().numpy().argmax(axis=1))\n",
        "        \n",
        "        val_loss = val_running_loss / counter\n",
        "        preds = torch.tensor(np.concatenate(preds))\n",
        "        labels = torch.tensor(np.concatenate(labels))\n",
        "        val_acc = acc(preds, labels).item()\n",
        "        return val_loss, val_acc"
      ],
      "metadata": {
        "execution": {
          "iopub.status.busy": "2022-10-28T04:24:20.716225Z",
          "iopub.execute_input": "2022-10-28T04:24:20.716601Z",
          "iopub.status.idle": "2022-10-28T04:24:20.727583Z",
          "shell.execute_reply.started": "2022-10-28T04:24:20.716567Z",
          "shell.execute_reply": "2022-10-28T04:24:20.726191Z"
        },
        "trusted": true,
        "id": "LyvS7_OW1Cj-"
      },
      "execution_count": null,
      "outputs": []
    },
    {
      "cell_type": "code",
      "source": [
        "import torch.optim as optim\n",
        "import matplotlib\n",
        "from torch.utils.data import DataLoader\n",
        "matplotlib.style.use('ggplot')\n",
        "# initialize the computation device\n",
        "device = torch.device('cuda' if torch.cuda.is_available() else 'cpu')"
      ],
      "metadata": {
        "execution": {
          "iopub.status.busy": "2022-10-28T04:24:24.617804Z",
          "iopub.execute_input": "2022-10-28T04:24:24.618166Z",
          "iopub.status.idle": "2022-10-28T04:24:24.623867Z",
          "shell.execute_reply.started": "2022-10-28T04:24:24.618134Z",
          "shell.execute_reply": "2022-10-28T04:24:24.622628Z"
        },
        "trusted": true,
        "id": "-GFaZnzr1Cj_"
      },
      "execution_count": null,
      "outputs": []
    },
    {
      "cell_type": "code",
      "source": [
        "#intialize the model\n",
        "from torch.optim.lr_scheduler import ReduceLROnPlateau\n",
        "\n",
        "ENet_model = model(pretrained=True, requires_grad=False).to(device)\n",
        "# learning parameters\n",
        "lr = 0.0001\n",
        "epochs = 30\n",
        "batch_size = 32\n",
        "optimizer = optim.Adam(ENet_model.parameters(), lr=lr)\n",
        "scheduler = ReduceLROnPlateau(optimizer, 'min')\n",
        "criterion = nn.BCELoss()"
      ],
      "metadata": {
        "execution": {
          "iopub.status.busy": "2022-10-28T04:24:26.626925Z",
          "iopub.execute_input": "2022-10-28T04:24:26.630098Z",
          "iopub.status.idle": "2022-10-28T04:24:28.432430Z",
          "shell.execute_reply.started": "2022-10-28T04:24:26.630044Z",
          "shell.execute_reply": "2022-10-28T04:24:28.431444Z"
        },
        "trusted": true,
        "id": "JzQrr2xz1Cj_"
      },
      "execution_count": null,
      "outputs": []
    },
    {
      "cell_type": "code",
      "source": [
        "train_data = ImageDataset(\n",
        "    train_df, train=True, test=False\n",
        ")\n",
        "# validation dataset\n",
        "valid_data = ImageDataset(\n",
        "    train_df, train=False, test=False\n",
        ")\n",
        "# train data loader\n",
        "train_loader = DataLoader(\n",
        "    train_data, \n",
        "    batch_size=batch_size,\n",
        "    shuffle=True\n",
        ")\n",
        "# validation data loader\n",
        "valid_loader = DataLoader(\n",
        "    valid_data, \n",
        "    batch_size=batch_size,\n",
        "    shuffle=False\n",
        ")"
      ],
      "metadata": {
        "execution": {
          "iopub.status.busy": "2022-10-28T04:24:32.210103Z",
          "iopub.execute_input": "2022-10-28T04:24:32.210655Z",
          "iopub.status.idle": "2022-10-28T04:24:32.243373Z",
          "shell.execute_reply.started": "2022-10-28T04:24:32.210615Z",
          "shell.execute_reply": "2022-10-28T04:24:32.242479Z"
        },
        "trusted": true,
        "id": "R-b3ePes1CkA",
        "outputId": "21605b5c-fa5e-47e1-b622-7748fe8e8863"
      },
      "execution_count": null,
      "outputs": [
        {
          "name": "stdout",
          "text": "Number of training images: 25570\nNumber of validation images: 4513\n",
          "output_type": "stream"
        }
      ]
    },
    {
      "cell_type": "code",
      "source": [
        "class EarlyStopper:\n",
        "    def __init__(self, patience=1, min_delta=0):\n",
        "        self.patience = patience\n",
        "        self.min_delta = min_delta\n",
        "        self.counter = 0\n",
        "        self.min_validation_loss = np.inf\n",
        "\n",
        "    def early_stop(self, validation_loss):\n",
        "        if validation_loss < self.min_validation_loss:\n",
        "            self.min_validation_loss = validation_loss\n",
        "            self.counter = 0\n",
        "        elif validation_loss > (self.min_validation_loss + self.min_delta):\n",
        "            self.counter += 1\n",
        "            if self.counter >= self.patience:\n",
        "                return True\n",
        "        return False"
      ],
      "metadata": {
        "execution": {
          "iopub.status.busy": "2022-10-28T04:24:36.170818Z",
          "iopub.execute_input": "2022-10-28T04:24:36.171515Z",
          "iopub.status.idle": "2022-10-28T04:24:36.178005Z",
          "shell.execute_reply.started": "2022-10-28T04:24:36.171477Z",
          "shell.execute_reply": "2022-10-28T04:24:36.176852Z"
        },
        "trusted": true,
        "id": "ylwK2HO01CkB"
      },
      "execution_count": null,
      "outputs": []
    },
    {
      "cell_type": "code",
      "source": [
        "# start the training and validation\n",
        "train_loss = []\n",
        "valid_loss = []\n",
        "train_acc = []\n",
        "val_acc = []\n",
        "early_stopper = EarlyStopper(patience=5, min_delta=0.001)\n",
        "for epoch in range(epochs):\n",
        "    print(f\"Epoch {epoch+1} of {epochs}\")\n",
        "    train_epoch_loss, train_epoch_acc = train(\n",
        "        ENet_model, train_loader, optimizer, criterion, train_data, device\n",
        "    )\n",
        "    valid_epoch_loss, val_epoch_acc = validate(\n",
        "        ENet_model, valid_loader, criterion, valid_data, device\n",
        "    )\n",
        "    if early_stopper.early_stop(valid_epoch_loss):             \n",
        "        break\n",
        "    train_loss.append(train_epoch_loss)\n",
        "    valid_loss.append(valid_epoch_loss)\n",
        "    train_acc.append(train_epoch_acc)\n",
        "    val_acc.append(val_epoch_acc)\n",
        "    print(f\"Train Loss: {train_epoch_loss:.4f}\")\n",
        "    print(f'Val Loss: {valid_epoch_loss:.4f}')\n",
        "    print(f'Train accuracy: {train_epoch_acc:.4f}')\n",
        "    print(f'Val accuracy: {val_epoch_acc:.4f}')"
      ],
      "metadata": {
        "execution": {
          "iopub.status.busy": "2022-10-28T04:24:39.710609Z",
          "iopub.execute_input": "2022-10-28T04:24:39.710988Z"
        },
        "trusted": true,
        "id": "O969K8JC1CkB",
        "outputId": "745f1db7-804a-42e2-c8a4-91b71cde8930"
      },
      "execution_count": null,
      "outputs": [
        {
          "name": "stderr",
          "text": "/opt/conda/lib/python3.7/site-packages/torchmetrics/utilities/prints.py:36: UserWarning: Metric `AUROC` will save all targets and predictions in buffer. For large datasets this may lead to large memory footprint.\n  warnings.warn(*args, **kwargs)\n",
          "output_type": "stream"
        },
        {
          "name": "stdout",
          "text": "Epoch 1 of 30\nTraining\n",
          "output_type": "stream"
        },
        {
          "name": "stderr",
          "text": "  0%|          | 0/799 [00:00<?, ?it/s]/opt/conda/lib/python3.7/site-packages/ipykernel_launcher.py:56: UserWarning: To copy construct from a tensor, it is recommended to use sourceTensor.clone().detach() or sourceTensor.clone().detach().requires_grad_(True), rather than torch.tensor(sourceTensor).\n800it [48:36,  3.65s/it]                         \n",
          "output_type": "stream"
        },
        {
          "name": "stdout",
          "text": "Validating\n",
          "output_type": "stream"
        },
        {
          "name": "stderr",
          "text": "141it [08:23,  3.57s/it]                         \n",
          "output_type": "stream"
        },
        {
          "name": "stdout",
          "text": "Train Loss: 0.4688\nVal Loss: 0.5190\nTrain accuracy: 0.3987\nVal accuracy: 0.4033\nEpoch 2 of 30\nTraining\n",
          "output_type": "stream"
        },
        {
          "name": "stderr",
          "text": "800it [45:57,  3.45s/it]                         \n",
          "output_type": "stream"
        },
        {
          "name": "stdout",
          "text": "Validating\n",
          "output_type": "stream"
        },
        {
          "name": "stderr",
          "text": "141it [07:49,  3.33s/it]                         \n",
          "output_type": "stream"
        },
        {
          "name": "stdout",
          "text": "Train Loss: 0.3776\nVal Loss: 0.3924\nTrain accuracy: 0.4472\nVal accuracy: 0.4706\nEpoch 3 of 30\nTraining\n",
          "output_type": "stream"
        },
        {
          "name": "stderr",
          "text": "800it [46:11,  3.46s/it]                         \n",
          "output_type": "stream"
        },
        {
          "name": "stdout",
          "text": "Validating\n",
          "output_type": "stream"
        },
        {
          "name": "stderr",
          "text": "141it [07:51,  3.35s/it]                         \n",
          "output_type": "stream"
        },
        {
          "name": "stdout",
          "text": "Train Loss: 0.3433\nVal Loss: 0.3581\nTrain accuracy: 0.4567\nVal accuracy: 0.4801\nEpoch 4 of 30\nTraining\n",
          "output_type": "stream"
        },
        {
          "name": "stderr",
          "text": "800it [45:33,  3.42s/it]                         \n",
          "output_type": "stream"
        },
        {
          "name": "stdout",
          "text": "Validating\n",
          "output_type": "stream"
        },
        {
          "name": "stderr",
          "text": "141it [07:48,  3.32s/it]                         \n",
          "output_type": "stream"
        },
        {
          "name": "stdout",
          "text": "Train Loss: 0.3224\nVal Loss: 0.3392\nTrain accuracy: 0.4632\nVal accuracy: 0.4832\nEpoch 5 of 30\nTraining\n",
          "output_type": "stream"
        },
        {
          "name": "stderr",
          "text": "800it [45:28,  3.41s/it]                         \n",
          "output_type": "stream"
        },
        {
          "name": "stdout",
          "text": "Validating\n",
          "output_type": "stream"
        },
        {
          "name": "stderr",
          "text": "141it [07:48,  3.32s/it]                         \n",
          "output_type": "stream"
        },
        {
          "name": "stdout",
          "text": "Train Loss: 0.3092\nVal Loss: 0.3225\nTrain accuracy: 0.4662\nVal accuracy: 0.4843\nEpoch 6 of 30\nTraining\n",
          "output_type": "stream"
        },
        {
          "name": "stderr",
          "text": "800it [45:10,  3.39s/it]                         \n",
          "output_type": "stream"
        },
        {
          "name": "stdout",
          "text": "Validating\n",
          "output_type": "stream"
        },
        {
          "name": "stderr",
          "text": "141it [07:45,  3.30s/it]                         \n",
          "output_type": "stream"
        },
        {
          "name": "stdout",
          "text": "Train Loss: 0.3027\nVal Loss: 0.3136\nTrain accuracy: 0.4667\nVal accuracy: 0.4861\nEpoch 7 of 30\nTraining\n",
          "output_type": "stream"
        },
        {
          "name": "stderr",
          "text": "800it [45:19,  3.40s/it]                         \n",
          "output_type": "stream"
        },
        {
          "name": "stdout",
          "text": "Validating\n",
          "output_type": "stream"
        },
        {
          "name": "stderr",
          "text": "141it [07:49,  3.33s/it]                         \n",
          "output_type": "stream"
        },
        {
          "name": "stdout",
          "text": "Train Loss: 0.2951\nVal Loss: 0.3053\nTrain accuracy: 0.4677\nVal accuracy: 0.4861\nEpoch 8 of 30\nTraining\n",
          "output_type": "stream"
        },
        {
          "name": "stderr",
          "text": "800it [45:25,  3.41s/it]                         \n",
          "output_type": "stream"
        },
        {
          "name": "stdout",
          "text": "Validating\n",
          "output_type": "stream"
        },
        {
          "name": "stderr",
          "text": "141it [07:47,  3.32s/it]                         \n",
          "output_type": "stream"
        },
        {
          "name": "stdout",
          "text": "Train Loss: 0.2905\nVal Loss: 0.2986\nTrain accuracy: 0.4689\nVal accuracy: 0.4852\nEpoch 9 of 30\nTraining\n",
          "output_type": "stream"
        },
        {
          "name": "stderr",
          "text": "800it [45:28,  3.41s/it]                         \n",
          "output_type": "stream"
        },
        {
          "name": "stdout",
          "text": "Validating\n",
          "output_type": "stream"
        },
        {
          "name": "stderr",
          "text": "141it [07:49,  3.33s/it]                         \n",
          "output_type": "stream"
        },
        {
          "name": "stdout",
          "text": "Train Loss: 0.2878\nVal Loss: 0.2941\nTrain accuracy: 0.4700\nVal accuracy: 0.4817\nEpoch 10 of 30\nTraining\n",
          "output_type": "stream"
        },
        {
          "name": "stderr",
          "text": "800it [45:26,  3.41s/it]                         \n",
          "output_type": "stream"
        },
        {
          "name": "stdout",
          "text": "Validating\n",
          "output_type": "stream"
        },
        {
          "name": "stderr",
          "text": "141it [07:48,  3.32s/it]                         \n",
          "output_type": "stream"
        },
        {
          "name": "stdout",
          "text": "Train Loss: 0.2844\nVal Loss: 0.2889\nTrain accuracy: 0.4689\nVal accuracy: 0.4801\nEpoch 11 of 30\nTraining\n",
          "output_type": "stream"
        },
        {
          "name": "stderr",
          "text": "800it [45:33,  3.42s/it]                         \n",
          "output_type": "stream"
        },
        {
          "name": "stdout",
          "text": "Validating\n",
          "output_type": "stream"
        },
        {
          "name": "stderr",
          "text": "141it [07:46,  3.31s/it]                         \n",
          "output_type": "stream"
        },
        {
          "name": "stdout",
          "text": "Train Loss: 0.2825\nVal Loss: 0.2847\nTrain accuracy: 0.4689\nVal accuracy: 0.4797\nEpoch 12 of 30\nTraining\n",
          "output_type": "stream"
        },
        {
          "name": "stderr",
          "text": " 69%|██████▊   | 548/799 [31:11<14:19,  3.42s/it]",
          "output_type": "stream"
        }
      ]
    }
  ]
}